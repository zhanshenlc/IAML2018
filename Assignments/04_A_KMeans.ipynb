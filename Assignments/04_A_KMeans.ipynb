{
 "cells": [
  {
   "cell_type": "markdown",
   "metadata": {},
   "source": [
    "# Introductory applied machine learning (INFR10069)\n",
    "# Assignment 4: Unsupervised Learning Part A (KMeans Clustering)"
   ]
  },
  {
   "cell_type": "markdown",
   "metadata": {},
   "source": [
    "## Important Instructions\n",
    "\n",
    "**It is important that you follow the instructions below to the letter - we will not be responsible for incorrect marking due to non-standard practices.**\n",
    "\n",
    "1. <font color='red'>We have split Assignment 4 into two parts to make it easier for you to work on them separately and for the markers to give you feedback. This is part A of Assignment 4 and deals with the News-Group Dataset - Part B deals with the MNIST dataset. Both Assignments together are still worth 50% of CourseWork 2. **Remember to submit both notebooks (you can submit them separately).**</font>\n",
    "\n",
    "1. You *MUST* have your environment set up as in the [README](https://github.com/michael-camilleri/IAML2018) and you *must activate this environment before running this notebook*:\n",
    "```\n",
    "source activate py3iaml\n",
    "cd [DIRECTORY CONTAINING GIT REPOSITORY]\n",
    "jupyter notebook\n",
    "# Navigate to this file\n",
    "```\n",
    "\n",
    "1. Read the instructions carefully, especially where asked to name variables with a specific name. Wherever you are required to produce code you should use code cells, otherwise you should use markdown cells to report results and explain answers. In most cases we indicate the nature of answer we are expecting (code/text), and also provide the code/markdown cell where to put it\n",
    "\n",
    "1. There are some questions which are **specific to those taking the Level-11 version** of the course (INFR11182 and INFR11152). These are clearly marked with the words **(LEVEL 11)** and must be completed by those taking the Level 11 course. Those on the Level 10 version (INFR10069) may (and are advised to) attempt such questions but this will not affect their mark in any way, nor will they get feedback on them.\n",
    "\n",
    "1. The .csv files that you will be using are located at `./datasets` (i.e. use the `datasets` directory **adjacent** to this file).\n",
    "\n",
    "1. Keep your answers brief and concise. Most written questions can be answered with 2-3 lines of explanation: **in questions where this is specified, you will be penalised if you go over.**\n",
    "\n",
    "1. Make sure to distinguish between **attributes** (columns of the data) and **features** (which typically refers only to the independent variables, i.e. excluding the target variables).\n",
    "\n",
    "1. Make sure to show **all** your code/working. \n",
    "\n",
    "1. Write readable code. While we do not expect you to follow [PEP8](https://www.python.org/dev/peps/pep-0008/) to the letter, the code should be adequately understandable, with plots/visualisations correctly labelled. **Do** use inline comments when doing something non-standard. When asked to present numerical values, make sure to represent real numbers in the appropriate precision to exemplify your answer. Marks *WILL* be deducted if the marker cannot understand your logic/results.\n",
    "\n",
    "1. **Collaboration:** You may discuss the assignment with your colleagues, provided that the writing that you submit is entirely your own. That is, you must NOT borrow actual text or code from others. We ask that you provide a list of the people who you've had discussions with (if any). Please refer to the [Academic Misconduct](http://web.inf.ed.ac.uk/infweb/admin/policies/academic-misconduct) page for what consistutes a breach of the above.\n",
    "\n",
    "### SUBMISSION Mechanics\n",
    "\n",
    "**IMPORTANT:** You must submit this assignment by **Thursday 15/11/2018 at 16:00**. \n",
    "\n",
    "**Late submissions:** The policy stated in the School of Informatics is that normally you will not be allowed to submit coursework late. See the [ITO webpage](http://web.inf.ed.ac.uk/infweb/student-services/ito/admin/coursework-projects/late-coursework-extension-requests) for exceptions to this, e.g. in case of serious medical illness or serious personal problems.\n",
    "\n",
    "**Resubmission:** If you submit your file(s) again, the previous submission is **overwritten**. We will mark the version that is in the submission folder at the deadline.\n",
    "\n",
    "**N.B.**: This Assignment requires submitting **two files (electronically as described below)**:\n",
    " 1. This Jupyter Notebook for Part A, *and*\n",
    " 1. The Jupyter Notebook for Part B\n",
    " \n",
    "All submissions happen electronically. To submit:\n",
    "1. Fill out this notebook (as well as Part B), making sure to:\n",
    "   1. save it with **all code/text and visualisations**: markers are NOT expected to run any cells,\n",
    "   1. keep the name of the file **UNCHANGED**, *and*\n",
    "   1. **keep the same structure**: retain the questions, **DO NOT** delete any cells and **avoid** adding unnecessary cells unless absolutely necessary, as this makes the job harder for the markers.\n",
    "   \n",
    "1. Submit it using the `submit` functionality. To do this, you must be on a DICE environment. Open a Terminal, and:\n",
    "   1. **On-Campus Students**: navigate to the location of this notebook and execute the following command:\n",
    "   \n",
    "      ```submit iaml cw2 04_A_KMeans.ipynb 04_B_PCA.ipynb```\n",
    "      \n",
    "   1. **Distance Learners:** These instructions also apply to those students who work on their own computer. First you need to copy your work onto DICE (so that you can use the `submit` command). For this, you can use `scp` or `rsync` (you may need to install these yourself). You can copy files to `student.ssh.inf.ed.ac.uk`, then ssh into it in order to submit. The following is an example. Replace entries in `[square brackets]` with your specific details: i.e. if your student number is for example s1234567, then `[YOUR USERNAME]` becomes `s1234567`.\n",
    "   \n",
    "    ```\n",
    "    scp -r [FULL PATH TO 04_A_KMeans.ipynb] [YOUR USERNAME]@student.ssh.inf.ed.ac.uk:04_A_KMeans.ipynb\n",
    "    scp -r [FULL PATH TO 04_B_PCA.ipynb] [YOUR USERNAME]@student.ssh.inf.ed.ac.uk:04_B_PCA.ipynb\n",
    "    ssh [YOUR USERNAME]@student.ssh.inf.ed.ac.uk\n",
    "    ssh student.login\n",
    "    submit iaml cw2 04_A_KMeans.ipynb 04_B_PCA.ipynb\n",
    "    ```\n",
    "    \n",
    "   What actually happens in the background is that your file is placed in a folder available to markers. If you submit a file with the same name into the same location, **it will *overwrite* your previous submission**. You should receive an automatic email confirmation after submission.\n",
    "  \n",
    "\n",
    "### Marking Breakdown\n",
    "\n",
    "The Level 10 and Level 11 points are marked out of different totals, however these are all normalised to 100%. Both Part A (this notebook) and Part B are each worth 50% of the Total Mark for Assignment 4.\n",
    "\n",
    "**70-100%** results/answer correct plus extra achievement at understanding or analysis of results. Clear explanations, evidence of creative or deeper thought will contribute to a higher grade.\n",
    "\n",
    "**60-69%** results/answer correct or nearly correct and well explained.\n",
    "\n",
    "**50-59%** results/answer in right direction but significant errors.\n",
    "\n",
    "**40-49%** some evidence that the student has gained some understanding, but not answered the questions\n",
    "properly.\n",
    "\n",
    "**0-39%** serious error or slack work.\n",
    "\n",
    "Note that while this is not a programming assignment, in questions which involve visualisation of results and/or long cold snippets, some marks may be deducted if the code is not adequately readable."
   ]
  },
  {
   "cell_type": "markdown",
   "metadata": {},
   "source": [
    "## Imports\n",
    "\n",
    "Use the cell below to include any imports you deem necessary."
   ]
  },
  {
   "cell_type": "code",
   "execution_count": 1,
   "metadata": {},
   "outputs": [
    {
     "name": "stdout",
     "output_type": "stream",
     "text": [
      "Populating the interactive namespace from numpy and matplotlib\n"
     ]
    }
   ],
   "source": [
    "%matplotlib inline\n",
    "%pylab inline\n",
    "\n",
    "# Nice Formatting within Jupyter Notebook\n",
    "%matplotlib inline\n",
    "from IPython.display import display # Allows multiple displays from a single code-cell\n",
    "\n",
    "# For Getting the Data\n",
    "from sklearn.datasets import fetch_20newsgroups, load_digits\n",
    "from sklearn.feature_extraction.text import TfidfVectorizer\n",
    "\n",
    "# System functionality\n",
    "import sys\n",
    "sys.path.append('..')\n",
    "\n",
    "# Import Here any Additional modules you use. To import utilities we provide, use something like:\n",
    "#   from utils.plotter import plot_hinton\n",
    "\n",
    "# Your Code goes here:\n",
    "import pandas as pd\n",
    "import seaborn as sns\n",
    "from sklearn.cluster import KMeans\n",
    "from sklearn.metrics import adjusted_rand_score\n",
    "from sklearn.decomposition import PCA\n",
    "from utils.plotter import plot_voronoi"
   ]
  },
  {
   "cell_type": "markdown",
   "metadata": {},
   "source": [
    "## Description of the dataset\n",
    "\n",
    "In this part of the assignment we will cluster the observations in the 20 Newsgroups dataset using the k-means algorithm. Each row of the dataset represents a document with bag of words features. If we were not given the labels for each document (i.e. the newsgroup it came from), clustering could allow us to infer which documents should have the same label. Observing common words within each cluster may allow us to give meaning to these inferred labels too.\n",
    "\n",
    "### Description of the Data\n",
    "\n",
    "This dataset is a collection of approximately 20,000 newsgroup documents, partitioned (nearly) evenly across 20 different newsgroups, each corresponding to a different topic. Some of the newsgroups are very closely related to each other (e.g. comp.sys.ibm.pc.hardware, comp.sys.mac.hardware), while others are highly unrelated (e.g misc.forsale, soc.religion.christian). \n",
    "\n",
    "To save you time and to make the problem manageable with limited computational resources, we preprocessed the original dataset. We will use documents from only 5 out of the 20 newsgroups, which results in a 5-class problem. More specifically the 5 classes correspond to the following newsgroups: \n",
    "1. `alt.atheism`\n",
    "2. `comp.sys.ibm.pc.hardware`\n",
    "3. `comp.sys.mac.hardware`\n",
    "4. `rec.sport.baseball`\n",
    "5. `rec.sport.hockey `\n",
    "\n",
    "However, note here that classes 2-3 and 4-5 are rather closely related.\n",
    "\n",
    "**In contrast to Assignment 1**, we have opted to use tf-idf weights ([term frequency - inverse document frequency](https://en.wikipedia.org/wiki/Tf%E2%80%93idf)) for each word instead of the frequency counts (which is why we will be downloading it anew). These weights represent the importance of a word to a document with respect to a collection of documents. The importance increases proportionally to the number of times a word appears in the document and decreases proportionally to the number of times the word appears in the whole corpus. \n",
    "\n",
    "Additionally we preprocess the data to include the most frequent 1000 words that appear in more than two documents, less than half of all documents, and that are not [stop words](https://en.wikipedia.org/wiki/Stop_words). We have provided the code for this preprocessing for you."
   ]
  },
  {
   "cell_type": "markdown",
   "metadata": {},
   "source": [
    "## 1. Exploration of the dataset\n",
    "\n",
    "Instead of providing the data as a dataset, we are going to import the data from the sklearn library. Make sure you have an active internet connection and run the cell below to import the data. It would be a good idea to understand the code but it's not strictly necessary (see the [sklearn documentation](http://scikit-learn.org/0.19/datasets/index.html#the-20-newsgroups-text-dataset)).\n",
    "\n",
    "**Do not change any of the code in this cell.**\n",
    "\n",
    "*This may take a wee while as it needs to download the dataset and preprocess it.*"
   ]
  },
  {
   "cell_type": "code",
   "execution_count": 2,
   "metadata": {},
   "outputs": [],
   "source": [
    "# Load the Data with only the required categories\n",
    "cats = ['alt.atheism', 'comp.sys.ibm.pc.hardware', 'comp.sys.mac.hardware', \n",
    "        'rec.sport.baseball', 'rec.sport.hockey']\n",
    "newsgroups_train = fetch_20newsgroups(subset='train', categories=cats, \n",
    "                                      remove=('headers', 'footers', 'quotes'), data_home='./datasets')\n",
    "# Transform Data to TF-IDF and store in X/y\n",
    "vectorizer = TfidfVectorizer(max_df=0.5, max_features=1000, min_df=2, stop_words='english', \n",
    "                             token_pattern='(?u)\\\\b[A-z]{2,}\\\\b')\n",
    "X = pd.DataFrame(vectorizer.fit_transform(newsgroups_train.data).todense(), \n",
    "                 columns=vectorizer.get_feature_names())\n",
    "y = pd.Series(np.array(cats)[newsgroups_train.target])"
   ]
  },
  {
   "cell_type": "markdown",
   "metadata": {},
   "source": [
    "### ========== Question 1.1 --- [10 marks] ==========\n",
    "\n",
    "As usual we start with an initial inspection of the data. \n",
    "\n",
    "&nbsp;&nbsp;**(a)** [Code] Using suitable pandas/numpy methods, summarise the key properties of the data (variables `X` and `y`). This should be no more than a few lines of code.<br>\n",
    "&nbsp;&nbsp;**(b)** [Text] Comment on your observations from ***(a)*** (dimensionality, data ranges, anything out of the ordinary). Be sure to indicate what `X` and `y` are (data type and purpose). (<5 sentences)<br>\n",
    "&nbsp;&nbsp;**(c)** [Text] Why do you think it is useful to consider TF-IDF weights as opposed to just the frequency of times a word appears in a document as a feature? (1 or 2 sentences)"
   ]
  },
  {
   "cell_type": "code",
   "execution_count": 3,
   "metadata": {
    "scrolled": false
   },
   "outputs": [
    {
     "name": "stdout",
     "output_type": "stream",
     "text": [
      "<class 'pandas.core.frame.DataFrame'>\n",
      "RangeIndex: 2845 entries, 0 to 2844\n",
      "Columns: 1000 entries, abc to zone\n",
      "dtypes: float64(1000)\n",
      "memory usage: 21.7 MB\n"
     ]
    },
    {
     "data": {
      "text/plain": [
       "None"
      ]
     },
     "metadata": {},
     "output_type": "display_data"
    },
    {
     "data": {
      "text/html": [
       "<div>\n",
       "<style scoped>\n",
       "    .dataframe tbody tr th:only-of-type {\n",
       "        vertical-align: middle;\n",
       "    }\n",
       "\n",
       "    .dataframe tbody tr th {\n",
       "        vertical-align: top;\n",
       "    }\n",
       "\n",
       "    .dataframe thead th {\n",
       "        text-align: right;\n",
       "    }\n",
       "</style>\n",
       "<table border=\"1\" class=\"dataframe\">\n",
       "  <thead>\n",
       "    <tr style=\"text-align: right;\">\n",
       "      <th></th>\n",
       "      <th>abc</th>\n",
       "      <th>ability</th>\n",
       "      <th>able</th>\n",
       "      <th>ac</th>\n",
       "      <th>accept</th>\n",
       "      <th>access</th>\n",
       "      <th>according</th>\n",
       "      <th>acquired</th>\n",
       "      <th>actually</th>\n",
       "      <th>adaptec</th>\n",
       "      <th>...</th>\n",
       "      <th>written</th>\n",
       "      <th>wrong</th>\n",
       "      <th>yankees</th>\n",
       "      <th>yeah</th>\n",
       "      <th>year</th>\n",
       "      <th>years</th>\n",
       "      <th>yes</th>\n",
       "      <th>york</th>\n",
       "      <th>young</th>\n",
       "      <th>zone</th>\n",
       "    </tr>\n",
       "  </thead>\n",
       "  <tbody>\n",
       "    <tr>\n",
       "      <th>count</th>\n",
       "      <td>2845.000000</td>\n",
       "      <td>2845.000000</td>\n",
       "      <td>2845.000000</td>\n",
       "      <td>2845.000000</td>\n",
       "      <td>2845.000000</td>\n",
       "      <td>2845.000000</td>\n",
       "      <td>2845.000000</td>\n",
       "      <td>2845.000000</td>\n",
       "      <td>2845.000000</td>\n",
       "      <td>2845.000000</td>\n",
       "      <td>...</td>\n",
       "      <td>2845.000000</td>\n",
       "      <td>2845.000000</td>\n",
       "      <td>2845.000000</td>\n",
       "      <td>2845.000000</td>\n",
       "      <td>2845.000000</td>\n",
       "      <td>2845.000000</td>\n",
       "      <td>2845.000000</td>\n",
       "      <td>2845.000000</td>\n",
       "      <td>2845.000000</td>\n",
       "      <td>2845.000000</td>\n",
       "    </tr>\n",
       "    <tr>\n",
       "      <th>mean</th>\n",
       "      <td>0.002436</td>\n",
       "      <td>0.002149</td>\n",
       "      <td>0.006709</td>\n",
       "      <td>0.001454</td>\n",
       "      <td>0.002286</td>\n",
       "      <td>0.003953</td>\n",
       "      <td>0.003115</td>\n",
       "      <td>0.000921</td>\n",
       "      <td>0.008366</td>\n",
       "      <td>0.001816</td>\n",
       "      <td>...</td>\n",
       "      <td>0.002612</td>\n",
       "      <td>0.006811</td>\n",
       "      <td>0.002470</td>\n",
       "      <td>0.003564</td>\n",
       "      <td>0.016934</td>\n",
       "      <td>0.008797</td>\n",
       "      <td>0.006381</td>\n",
       "      <td>0.002772</td>\n",
       "      <td>0.003288</td>\n",
       "      <td>0.001626</td>\n",
       "    </tr>\n",
       "    <tr>\n",
       "      <th>std</th>\n",
       "      <td>0.030224</td>\n",
       "      <td>0.020739</td>\n",
       "      <td>0.034631</td>\n",
       "      <td>0.023100</td>\n",
       "      <td>0.021634</td>\n",
       "      <td>0.030111</td>\n",
       "      <td>0.026958</td>\n",
       "      <td>0.016275</td>\n",
       "      <td>0.043921</td>\n",
       "      <td>0.026026</td>\n",
       "      <td>...</td>\n",
       "      <td>0.026988</td>\n",
       "      <td>0.039172</td>\n",
       "      <td>0.032786</td>\n",
       "      <td>0.031238</td>\n",
       "      <td>0.061181</td>\n",
       "      <td>0.039346</td>\n",
       "      <td>0.037319</td>\n",
       "      <td>0.025381</td>\n",
       "      <td>0.030929</td>\n",
       "      <td>0.022175</td>\n",
       "    </tr>\n",
       "    <tr>\n",
       "      <th>min</th>\n",
       "      <td>0.000000</td>\n",
       "      <td>0.000000</td>\n",
       "      <td>0.000000</td>\n",
       "      <td>0.000000</td>\n",
       "      <td>0.000000</td>\n",
       "      <td>0.000000</td>\n",
       "      <td>0.000000</td>\n",
       "      <td>0.000000</td>\n",
       "      <td>0.000000</td>\n",
       "      <td>0.000000</td>\n",
       "      <td>...</td>\n",
       "      <td>0.000000</td>\n",
       "      <td>0.000000</td>\n",
       "      <td>0.000000</td>\n",
       "      <td>0.000000</td>\n",
       "      <td>0.000000</td>\n",
       "      <td>0.000000</td>\n",
       "      <td>0.000000</td>\n",
       "      <td>0.000000</td>\n",
       "      <td>0.000000</td>\n",
       "      <td>0.000000</td>\n",
       "    </tr>\n",
       "    <tr>\n",
       "      <th>25%</th>\n",
       "      <td>0.000000</td>\n",
       "      <td>0.000000</td>\n",
       "      <td>0.000000</td>\n",
       "      <td>0.000000</td>\n",
       "      <td>0.000000</td>\n",
       "      <td>0.000000</td>\n",
       "      <td>0.000000</td>\n",
       "      <td>0.000000</td>\n",
       "      <td>0.000000</td>\n",
       "      <td>0.000000</td>\n",
       "      <td>...</td>\n",
       "      <td>0.000000</td>\n",
       "      <td>0.000000</td>\n",
       "      <td>0.000000</td>\n",
       "      <td>0.000000</td>\n",
       "      <td>0.000000</td>\n",
       "      <td>0.000000</td>\n",
       "      <td>0.000000</td>\n",
       "      <td>0.000000</td>\n",
       "      <td>0.000000</td>\n",
       "      <td>0.000000</td>\n",
       "    </tr>\n",
       "    <tr>\n",
       "      <th>50%</th>\n",
       "      <td>0.000000</td>\n",
       "      <td>0.000000</td>\n",
       "      <td>0.000000</td>\n",
       "      <td>0.000000</td>\n",
       "      <td>0.000000</td>\n",
       "      <td>0.000000</td>\n",
       "      <td>0.000000</td>\n",
       "      <td>0.000000</td>\n",
       "      <td>0.000000</td>\n",
       "      <td>0.000000</td>\n",
       "      <td>...</td>\n",
       "      <td>0.000000</td>\n",
       "      <td>0.000000</td>\n",
       "      <td>0.000000</td>\n",
       "      <td>0.000000</td>\n",
       "      <td>0.000000</td>\n",
       "      <td>0.000000</td>\n",
       "      <td>0.000000</td>\n",
       "      <td>0.000000</td>\n",
       "      <td>0.000000</td>\n",
       "      <td>0.000000</td>\n",
       "    </tr>\n",
       "    <tr>\n",
       "      <th>75%</th>\n",
       "      <td>0.000000</td>\n",
       "      <td>0.000000</td>\n",
       "      <td>0.000000</td>\n",
       "      <td>0.000000</td>\n",
       "      <td>0.000000</td>\n",
       "      <td>0.000000</td>\n",
       "      <td>0.000000</td>\n",
       "      <td>0.000000</td>\n",
       "      <td>0.000000</td>\n",
       "      <td>0.000000</td>\n",
       "      <td>...</td>\n",
       "      <td>0.000000</td>\n",
       "      <td>0.000000</td>\n",
       "      <td>0.000000</td>\n",
       "      <td>0.000000</td>\n",
       "      <td>0.000000</td>\n",
       "      <td>0.000000</td>\n",
       "      <td>0.000000</td>\n",
       "      <td>0.000000</td>\n",
       "      <td>0.000000</td>\n",
       "      <td>0.000000</td>\n",
       "    </tr>\n",
       "    <tr>\n",
       "      <th>max</th>\n",
       "      <td>0.723914</td>\n",
       "      <td>0.420916</td>\n",
       "      <td>0.431380</td>\n",
       "      <td>0.519765</td>\n",
       "      <td>0.443354</td>\n",
       "      <td>0.663808</td>\n",
       "      <td>0.572124</td>\n",
       "      <td>0.413233</td>\n",
       "      <td>1.000000</td>\n",
       "      <td>0.578282</td>\n",
       "      <td>...</td>\n",
       "      <td>0.723081</td>\n",
       "      <td>0.568146</td>\n",
       "      <td>0.878185</td>\n",
       "      <td>0.693531</td>\n",
       "      <td>0.650649</td>\n",
       "      <td>0.455493</td>\n",
       "      <td>0.646447</td>\n",
       "      <td>0.572455</td>\n",
       "      <td>0.703771</td>\n",
       "      <td>0.605576</td>\n",
       "    </tr>\n",
       "  </tbody>\n",
       "</table>\n",
       "<p>8 rows × 1000 columns</p>\n",
       "</div>"
      ],
      "text/plain": [
       "               abc      ability         able           ac       accept  \\\n",
       "count  2845.000000  2845.000000  2845.000000  2845.000000  2845.000000   \n",
       "mean      0.002436     0.002149     0.006709     0.001454     0.002286   \n",
       "std       0.030224     0.020739     0.034631     0.023100     0.021634   \n",
       "min       0.000000     0.000000     0.000000     0.000000     0.000000   \n",
       "25%       0.000000     0.000000     0.000000     0.000000     0.000000   \n",
       "50%       0.000000     0.000000     0.000000     0.000000     0.000000   \n",
       "75%       0.000000     0.000000     0.000000     0.000000     0.000000   \n",
       "max       0.723914     0.420916     0.431380     0.519765     0.443354   \n",
       "\n",
       "            access    according     acquired     actually      adaptec  \\\n",
       "count  2845.000000  2845.000000  2845.000000  2845.000000  2845.000000   \n",
       "mean      0.003953     0.003115     0.000921     0.008366     0.001816   \n",
       "std       0.030111     0.026958     0.016275     0.043921     0.026026   \n",
       "min       0.000000     0.000000     0.000000     0.000000     0.000000   \n",
       "25%       0.000000     0.000000     0.000000     0.000000     0.000000   \n",
       "50%       0.000000     0.000000     0.000000     0.000000     0.000000   \n",
       "75%       0.000000     0.000000     0.000000     0.000000     0.000000   \n",
       "max       0.663808     0.572124     0.413233     1.000000     0.578282   \n",
       "\n",
       "          ...           written        wrong      yankees         yeah  \\\n",
       "count     ...       2845.000000  2845.000000  2845.000000  2845.000000   \n",
       "mean      ...          0.002612     0.006811     0.002470     0.003564   \n",
       "std       ...          0.026988     0.039172     0.032786     0.031238   \n",
       "min       ...          0.000000     0.000000     0.000000     0.000000   \n",
       "25%       ...          0.000000     0.000000     0.000000     0.000000   \n",
       "50%       ...          0.000000     0.000000     0.000000     0.000000   \n",
       "75%       ...          0.000000     0.000000     0.000000     0.000000   \n",
       "max       ...          0.723081     0.568146     0.878185     0.693531   \n",
       "\n",
       "              year        years          yes         york        young  \\\n",
       "count  2845.000000  2845.000000  2845.000000  2845.000000  2845.000000   \n",
       "mean      0.016934     0.008797     0.006381     0.002772     0.003288   \n",
       "std       0.061181     0.039346     0.037319     0.025381     0.030929   \n",
       "min       0.000000     0.000000     0.000000     0.000000     0.000000   \n",
       "25%       0.000000     0.000000     0.000000     0.000000     0.000000   \n",
       "50%       0.000000     0.000000     0.000000     0.000000     0.000000   \n",
       "75%       0.000000     0.000000     0.000000     0.000000     0.000000   \n",
       "max       0.650649     0.455493     0.646447     0.572455     0.703771   \n",
       "\n",
       "              zone  \n",
       "count  2845.000000  \n",
       "mean      0.001626  \n",
       "std       0.022175  \n",
       "min       0.000000  \n",
       "25%       0.000000  \n",
       "50%       0.000000  \n",
       "75%       0.000000  \n",
       "max       0.605576  \n",
       "\n",
       "[8 rows x 1000 columns]"
      ]
     },
     "metadata": {},
     "output_type": "display_data"
    },
    {
     "data": {
      "text/html": [
       "<div>\n",
       "<style scoped>\n",
       "    .dataframe tbody tr th:only-of-type {\n",
       "        vertical-align: middle;\n",
       "    }\n",
       "\n",
       "    .dataframe tbody tr th {\n",
       "        vertical-align: top;\n",
       "    }\n",
       "\n",
       "    .dataframe thead th {\n",
       "        text-align: right;\n",
       "    }\n",
       "</style>\n",
       "<table border=\"1\" class=\"dataframe\">\n",
       "  <thead>\n",
       "    <tr style=\"text-align: right;\">\n",
       "      <th></th>\n",
       "      <th>abc</th>\n",
       "      <th>ability</th>\n",
       "      <th>able</th>\n",
       "      <th>ac</th>\n",
       "      <th>accept</th>\n",
       "      <th>access</th>\n",
       "      <th>according</th>\n",
       "      <th>acquired</th>\n",
       "      <th>actually</th>\n",
       "      <th>adaptec</th>\n",
       "      <th>...</th>\n",
       "      <th>written</th>\n",
       "      <th>wrong</th>\n",
       "      <th>yankees</th>\n",
       "      <th>yeah</th>\n",
       "      <th>year</th>\n",
       "      <th>years</th>\n",
       "      <th>yes</th>\n",
       "      <th>york</th>\n",
       "      <th>young</th>\n",
       "      <th>zone</th>\n",
       "    </tr>\n",
       "  </thead>\n",
       "  <tbody>\n",
       "    <tr>\n",
       "      <th>0</th>\n",
       "      <td>0.0</td>\n",
       "      <td>0.000000</td>\n",
       "      <td>0.0</td>\n",
       "      <td>0.0</td>\n",
       "      <td>0.0</td>\n",
       "      <td>0.0</td>\n",
       "      <td>0.000000</td>\n",
       "      <td>0.0</td>\n",
       "      <td>0.0</td>\n",
       "      <td>0.0</td>\n",
       "      <td>...</td>\n",
       "      <td>0.0</td>\n",
       "      <td>0.0</td>\n",
       "      <td>0.0</td>\n",
       "      <td>0.0</td>\n",
       "      <td>0.0</td>\n",
       "      <td>0.0</td>\n",
       "      <td>0.0</td>\n",
       "      <td>0.0</td>\n",
       "      <td>0.0</td>\n",
       "      <td>0.0</td>\n",
       "    </tr>\n",
       "    <tr>\n",
       "      <th>1</th>\n",
       "      <td>0.0</td>\n",
       "      <td>0.000000</td>\n",
       "      <td>0.0</td>\n",
       "      <td>0.0</td>\n",
       "      <td>0.0</td>\n",
       "      <td>0.0</td>\n",
       "      <td>0.000000</td>\n",
       "      <td>0.0</td>\n",
       "      <td>0.0</td>\n",
       "      <td>0.0</td>\n",
       "      <td>...</td>\n",
       "      <td>0.0</td>\n",
       "      <td>0.0</td>\n",
       "      <td>0.0</td>\n",
       "      <td>0.0</td>\n",
       "      <td>0.0</td>\n",
       "      <td>0.0</td>\n",
       "      <td>0.0</td>\n",
       "      <td>0.0</td>\n",
       "      <td>0.0</td>\n",
       "      <td>0.0</td>\n",
       "    </tr>\n",
       "    <tr>\n",
       "      <th>2</th>\n",
       "      <td>0.0</td>\n",
       "      <td>0.000000</td>\n",
       "      <td>0.0</td>\n",
       "      <td>0.0</td>\n",
       "      <td>0.0</td>\n",
       "      <td>0.0</td>\n",
       "      <td>0.000000</td>\n",
       "      <td>0.0</td>\n",
       "      <td>0.0</td>\n",
       "      <td>0.0</td>\n",
       "      <td>...</td>\n",
       "      <td>0.0</td>\n",
       "      <td>0.0</td>\n",
       "      <td>0.0</td>\n",
       "      <td>0.0</td>\n",
       "      <td>0.0</td>\n",
       "      <td>0.0</td>\n",
       "      <td>0.0</td>\n",
       "      <td>0.0</td>\n",
       "      <td>0.0</td>\n",
       "      <td>0.0</td>\n",
       "    </tr>\n",
       "    <tr>\n",
       "      <th>3</th>\n",
       "      <td>0.0</td>\n",
       "      <td>0.000000</td>\n",
       "      <td>0.0</td>\n",
       "      <td>0.0</td>\n",
       "      <td>0.0</td>\n",
       "      <td>0.0</td>\n",
       "      <td>0.000000</td>\n",
       "      <td>0.0</td>\n",
       "      <td>0.0</td>\n",
       "      <td>0.0</td>\n",
       "      <td>...</td>\n",
       "      <td>0.0</td>\n",
       "      <td>0.0</td>\n",
       "      <td>0.0</td>\n",
       "      <td>0.0</td>\n",
       "      <td>0.0</td>\n",
       "      <td>0.0</td>\n",
       "      <td>0.0</td>\n",
       "      <td>0.0</td>\n",
       "      <td>0.0</td>\n",
       "      <td>0.0</td>\n",
       "    </tr>\n",
       "    <tr>\n",
       "      <th>4</th>\n",
       "      <td>0.0</td>\n",
       "      <td>0.000000</td>\n",
       "      <td>0.0</td>\n",
       "      <td>0.0</td>\n",
       "      <td>0.0</td>\n",
       "      <td>0.0</td>\n",
       "      <td>0.000000</td>\n",
       "      <td>0.0</td>\n",
       "      <td>0.0</td>\n",
       "      <td>0.0</td>\n",
       "      <td>...</td>\n",
       "      <td>0.0</td>\n",
       "      <td>0.0</td>\n",
       "      <td>0.0</td>\n",
       "      <td>0.0</td>\n",
       "      <td>0.0</td>\n",
       "      <td>0.0</td>\n",
       "      <td>0.0</td>\n",
       "      <td>0.0</td>\n",
       "      <td>0.0</td>\n",
       "      <td>0.0</td>\n",
       "    </tr>\n",
       "    <tr>\n",
       "      <th>5</th>\n",
       "      <td>0.0</td>\n",
       "      <td>0.000000</td>\n",
       "      <td>0.0</td>\n",
       "      <td>0.0</td>\n",
       "      <td>0.0</td>\n",
       "      <td>0.0</td>\n",
       "      <td>0.000000</td>\n",
       "      <td>0.0</td>\n",
       "      <td>0.0</td>\n",
       "      <td>0.0</td>\n",
       "      <td>...</td>\n",
       "      <td>0.0</td>\n",
       "      <td>0.0</td>\n",
       "      <td>0.0</td>\n",
       "      <td>0.0</td>\n",
       "      <td>0.0</td>\n",
       "      <td>0.0</td>\n",
       "      <td>0.0</td>\n",
       "      <td>0.0</td>\n",
       "      <td>0.0</td>\n",
       "      <td>0.0</td>\n",
       "    </tr>\n",
       "    <tr>\n",
       "      <th>6</th>\n",
       "      <td>0.0</td>\n",
       "      <td>0.000000</td>\n",
       "      <td>0.0</td>\n",
       "      <td>0.0</td>\n",
       "      <td>0.0</td>\n",
       "      <td>0.0</td>\n",
       "      <td>0.000000</td>\n",
       "      <td>0.0</td>\n",
       "      <td>0.0</td>\n",
       "      <td>0.0</td>\n",
       "      <td>...</td>\n",
       "      <td>0.0</td>\n",
       "      <td>0.0</td>\n",
       "      <td>0.0</td>\n",
       "      <td>0.0</td>\n",
       "      <td>0.0</td>\n",
       "      <td>0.0</td>\n",
       "      <td>0.0</td>\n",
       "      <td>0.0</td>\n",
       "      <td>0.0</td>\n",
       "      <td>0.0</td>\n",
       "    </tr>\n",
       "    <tr>\n",
       "      <th>7</th>\n",
       "      <td>0.0</td>\n",
       "      <td>0.000000</td>\n",
       "      <td>0.0</td>\n",
       "      <td>0.0</td>\n",
       "      <td>0.0</td>\n",
       "      <td>0.0</td>\n",
       "      <td>0.000000</td>\n",
       "      <td>0.0</td>\n",
       "      <td>0.0</td>\n",
       "      <td>0.0</td>\n",
       "      <td>...</td>\n",
       "      <td>0.0</td>\n",
       "      <td>0.0</td>\n",
       "      <td>0.0</td>\n",
       "      <td>0.0</td>\n",
       "      <td>0.0</td>\n",
       "      <td>0.0</td>\n",
       "      <td>0.0</td>\n",
       "      <td>0.0</td>\n",
       "      <td>0.0</td>\n",
       "      <td>0.0</td>\n",
       "    </tr>\n",
       "    <tr>\n",
       "      <th>8</th>\n",
       "      <td>0.0</td>\n",
       "      <td>0.000000</td>\n",
       "      <td>0.0</td>\n",
       "      <td>0.0</td>\n",
       "      <td>0.0</td>\n",
       "      <td>0.0</td>\n",
       "      <td>0.133553</td>\n",
       "      <td>0.0</td>\n",
       "      <td>0.0</td>\n",
       "      <td>0.0</td>\n",
       "      <td>...</td>\n",
       "      <td>0.0</td>\n",
       "      <td>0.0</td>\n",
       "      <td>0.0</td>\n",
       "      <td>0.0</td>\n",
       "      <td>0.0</td>\n",
       "      <td>0.0</td>\n",
       "      <td>0.0</td>\n",
       "      <td>0.0</td>\n",
       "      <td>0.0</td>\n",
       "      <td>0.0</td>\n",
       "    </tr>\n",
       "    <tr>\n",
       "      <th>9</th>\n",
       "      <td>0.0</td>\n",
       "      <td>0.420916</td>\n",
       "      <td>0.0</td>\n",
       "      <td>0.0</td>\n",
       "      <td>0.0</td>\n",
       "      <td>0.0</td>\n",
       "      <td>0.000000</td>\n",
       "      <td>0.0</td>\n",
       "      <td>0.0</td>\n",
       "      <td>0.0</td>\n",
       "      <td>...</td>\n",
       "      <td>0.0</td>\n",
       "      <td>0.0</td>\n",
       "      <td>0.0</td>\n",
       "      <td>0.0</td>\n",
       "      <td>0.0</td>\n",
       "      <td>0.0</td>\n",
       "      <td>0.0</td>\n",
       "      <td>0.0</td>\n",
       "      <td>0.0</td>\n",
       "      <td>0.0</td>\n",
       "    </tr>\n",
       "  </tbody>\n",
       "</table>\n",
       "<p>10 rows × 1000 columns</p>\n",
       "</div>"
      ],
      "text/plain": [
       "   abc   ability  able   ac  accept  access  according  acquired  actually  \\\n",
       "0  0.0  0.000000   0.0  0.0     0.0     0.0   0.000000       0.0       0.0   \n",
       "1  0.0  0.000000   0.0  0.0     0.0     0.0   0.000000       0.0       0.0   \n",
       "2  0.0  0.000000   0.0  0.0     0.0     0.0   0.000000       0.0       0.0   \n",
       "3  0.0  0.000000   0.0  0.0     0.0     0.0   0.000000       0.0       0.0   \n",
       "4  0.0  0.000000   0.0  0.0     0.0     0.0   0.000000       0.0       0.0   \n",
       "5  0.0  0.000000   0.0  0.0     0.0     0.0   0.000000       0.0       0.0   \n",
       "6  0.0  0.000000   0.0  0.0     0.0     0.0   0.000000       0.0       0.0   \n",
       "7  0.0  0.000000   0.0  0.0     0.0     0.0   0.000000       0.0       0.0   \n",
       "8  0.0  0.000000   0.0  0.0     0.0     0.0   0.133553       0.0       0.0   \n",
       "9  0.0  0.420916   0.0  0.0     0.0     0.0   0.000000       0.0       0.0   \n",
       "\n",
       "   adaptec  ...   written  wrong  yankees  yeah  year  years  yes  york  \\\n",
       "0      0.0  ...       0.0    0.0      0.0   0.0   0.0    0.0  0.0   0.0   \n",
       "1      0.0  ...       0.0    0.0      0.0   0.0   0.0    0.0  0.0   0.0   \n",
       "2      0.0  ...       0.0    0.0      0.0   0.0   0.0    0.0  0.0   0.0   \n",
       "3      0.0  ...       0.0    0.0      0.0   0.0   0.0    0.0  0.0   0.0   \n",
       "4      0.0  ...       0.0    0.0      0.0   0.0   0.0    0.0  0.0   0.0   \n",
       "5      0.0  ...       0.0    0.0      0.0   0.0   0.0    0.0  0.0   0.0   \n",
       "6      0.0  ...       0.0    0.0      0.0   0.0   0.0    0.0  0.0   0.0   \n",
       "7      0.0  ...       0.0    0.0      0.0   0.0   0.0    0.0  0.0   0.0   \n",
       "8      0.0  ...       0.0    0.0      0.0   0.0   0.0    0.0  0.0   0.0   \n",
       "9      0.0  ...       0.0    0.0      0.0   0.0   0.0    0.0  0.0   0.0   \n",
       "\n",
       "   young  zone  \n",
       "0    0.0   0.0  \n",
       "1    0.0   0.0  \n",
       "2    0.0   0.0  \n",
       "3    0.0   0.0  \n",
       "4    0.0   0.0  \n",
       "5    0.0   0.0  \n",
       "6    0.0   0.0  \n",
       "7    0.0   0.0  \n",
       "8    0.0   0.0  \n",
       "9    0.0   0.0  \n",
       "\n",
       "[10 rows x 1000 columns]"
      ]
     },
     "metadata": {},
     "output_type": "display_data"
    },
    {
     "data": {
      "text/plain": [
       "count                 2845\n",
       "unique                   5\n",
       "top       rec.sport.hockey\n",
       "freq                   600\n",
       "dtype: object"
      ]
     },
     "metadata": {},
     "output_type": "display_data"
    },
    {
     "data": {
      "text/plain": [
       "array(['rec.sport.baseball', 'rec.sport.hockey',\n",
       "       'comp.sys.ibm.pc.hardware', 'alt.atheism', 'comp.sys.mac.hardware'],\n",
       "      dtype=object)"
      ]
     },
     "metadata": {},
     "output_type": "display_data"
    }
   ],
   "source": [
    "# (a) # Your Code goes here:\n",
    "display(X.info())\n",
    "display(X.describe())\n",
    "display(X.head(10))\n",
    "\n",
    "display(y.describe())\n",
    "display(y.unique())"
   ]
  },
  {
   "cell_type": "markdown",
   "metadata": {},
   "source": [
    "(b) ***Your answer goes here:***\n",
    "<br> X (could be considered as an input set) is a dataset with dimensions 2845 $\\times$ 1000, indicating that there are 2845 instances, each with 1000 attributes. Values in X ranges from [0, 1], since TF-IDF is used.\n",
    "<br> Y (could be considered as an output set) is a dataset with dimensions 2845 $\\times$ 1, indicating that the corresponding 2845 instances in X have one label each. Every value in y is one of the five labels: [alt.atheism, comp.sys.ibm.pc.hardware, comp.sys.mac.hardware, rec.sport.baseball, rec.sport.hockey]."
   ]
  },
  {
   "cell_type": "markdown",
   "metadata": {},
   "source": [
    "(c) ***Your answer goes here:***\n",
    "<br> TF-IDF helps remove the importance from the really common words such as 'the', which would appear frequently across all documents."
   ]
  },
  {
   "cell_type": "markdown",
   "metadata": {},
   "source": [
    "## 2. Unsupervised Learning"
   ]
  },
  {
   "cell_type": "markdown",
   "metadata": {},
   "source": [
    "### ========== Question 2.1 --- [6 marks] ==========\n",
    "\n",
    "We will now use [K-Means](http://scikit-learn.org/0.19/modules/generated/sklearn.cluster.KMeans.html#sklearn.cluster.KMeans) clustering as a means of unsupervised learning of the document classes. Familiarise yourself with the implementation and then answer the following questions.\n",
    "\n",
    "&nbsp;&nbsp;**(a)** [Text] The KMeans algorithm is non-deterministic. Explain what is meant by this, why this is the case, and how the final model is selected (3 sentences).<br>\n",
    "&nbsp;&nbsp;**(b)** [Text] One of the parameters we need to specify when using k-means is the number of clusters. What is a reasonable number for this problem and why? *Hint: Look at the `y` values, which are in a Pandas `Series`*.<br>\n",
    "&nbsp;&nbsp;**(b)** [Code] Create and fit a K-Means model to the training data `X` with your specified number of clusters. For reproducability, set `random_state=1000` -- keep other arguments at default values. Keep track of the k-means object created."
   ]
  },
  {
   "cell_type": "markdown",
   "metadata": {},
   "source": [
    "(a) ***Your answer goes here:***\n",
    "<br> Performing the algorithm on the same data several times would achieve different results.\n",
    "<br> The initialisation of the algorithm is to choose K centroids for the clusters, which is a random process. Different sets of initial centroids would likely result in different outcomes.\n",
    "<br> Choose the model with the best result using clustering performance evaluation, for example, Aggregate Intra-Cluster Distance."
   ]
  },
  {
   "cell_type": "markdown",
   "metadata": {},
   "source": [
    "(b) ***Your answer goes here:***\n",
    "<br> 5.\n",
    "<br> There are five different class labels occured in the dataset, and we would like to have one class assigned to one cluster."
   ]
  },
  {
   "cell_type": "code",
   "execution_count": 4,
   "metadata": {},
   "outputs": [
    {
     "data": {
      "text/plain": [
       "KMeans(algorithm='auto', copy_x=True, init='k-means++', max_iter=300,\n",
       "    n_clusters=5, n_init=10, n_jobs=1, precompute_distances='auto',\n",
       "    random_state=1000, tol=0.0001, verbose=0)"
      ]
     },
     "execution_count": 4,
     "metadata": {},
     "output_type": "execute_result"
    }
   ],
   "source": [
    "#(c) # Your Code goes here:\n",
    "km = KMeans(n_clusters=5, random_state=1000)\n",
    "km.fit(X=X, y=y)"
   ]
  },
  {
   "cell_type": "markdown",
   "metadata": {},
   "source": [
    "### ========== Question 2.2 --- [6 marks] =========="
   ]
  },
  {
   "cell_type": "markdown",
   "metadata": {},
   "source": [
    "We will now evaluate the quality of this fit, primarily through the Adjusted Rand Index (ARI) of the model.\n",
    "\n",
    "&nbsp;&nbsp;**(a)** [Text] By referring to the [sklearn documentation](http://scikit-learn.org/0.19/modules/clustering.html), describe what the ARI (`adjusted_rand_score`) measures about the quality of the fit. What is a disadvantage of this measure for evaluating clustering performance? (2-3 sentences) <br>\n",
    "&nbsp;&nbsp;**(b)** [Code] Compute (and display) the Adjusted Rand Index of the fitted model.<br>\n",
    "&nbsp;&nbsp;**(c)** [Text] Comment (1 or 2 sentences) on the quality of the fit as expressed by this measure.<br>"
   ]
  },
  {
   "cell_type": "markdown",
   "metadata": {},
   "source": [
    "(a) ***Your answer goes here:***\n",
    "<br> ARI measures the similarity between the clustering of the machine and the true clustering, ignoring permutations and with chance normalisation.\n",
    "<br> ARI requires knowledge of the ground truth classes, which is almost never available in practice or requires manual labelling."
   ]
  },
  {
   "cell_type": "code",
   "execution_count": 5,
   "metadata": {},
   "outputs": [
    {
     "name": "stdout",
     "output_type": "stream",
     "text": [
      "ARI: 0.22619332384922217\n"
     ]
    }
   ],
   "source": [
    "#(b) # Your Code goes here:\n",
    "ari = adjusted_rand_score(labels_pred=km.predict(X), labels_true=y)\n",
    "print(\"ARI: {}\".format(ari))"
   ]
  },
  {
   "cell_type": "markdown",
   "metadata": {},
   "source": [
    "(c) ***Your answer goes here:***\n",
    "<br> There are 5 classes all together, so the baseline classifier, labelling all instances into a same class, would give a score around 20%.\n",
    "<br> The score of the fit is similar to the baseline's score, so the performance is quite poor."
   ]
  },
  {
   "cell_type": "markdown",
   "metadata": {},
   "source": [
    "### ========== Question 2.3 --- [12 marks] ==========\n",
    "<a id='question_2_3'></a>\n",
    "Let us explore the quality of the fit further. We will visualise bar-charts of the fit.\n",
    "\n",
    "&nbsp;&nbsp;**(a)** [Code] Create a bar-chart of the number of data-points with a particular class assigned to each cluster centre. You should be able to do this in one plot using seaborn functionality. Make sure to distinguish the cluster-centres (using for example grid-lines), and label the plot appropriately. As part of the cluster labels, include the total number of data-points assigned to that cluster. *Hint: it might be useful to specify the image width using `pylab.rcParams['figure.figsize'] = (width, height)` to make things clearer.*<br>\n",
    "&nbsp;&nbsp;**(b)** [Text] Comment (3 to 4 sentences) on the distribution of datapoints to cluster centres, and how this relates to the ARI measure above.\n"
   ]
  },
  {
   "cell_type": "code",
   "execution_count": 6,
   "metadata": {
    "scrolled": false
   },
   "outputs": [
    {
     "data": {
      "image/png": "[encoded data removed]",
      "text/plain": [
       "<Figure size 864x432 with 1 Axes>"
      ]
     },
     "metadata": {},
     "output_type": "display_data"
    }
   ],
   "source": [
    "#(a) # Your Code goes here:\n",
    "pylab.rcParams['figure.figsize'] = (12, 6)\n",
    "sns.set_style('darkgrid')\n",
    "plt1 = sns.countplot(x=km.labels_, hue=y)\n",
    "plt1.set_xlabel(\"Cluster ID\")\n",
    "plt1.legend(bbox_to_anchor=[1, 1], title='Class')\n",
    "plt.show()"
   ]
  },
  {
   "cell_type": "markdown",
   "metadata": {},
   "source": [
    "(b) ***Your answer goes here:***\n",
    "<br> 'Cluster 4' is the best one among the 5 clusters: the majority is obvious ('alt.atheism' in red). 'Cluster 1' is the worst one: all five classes are almost uniformly distributed in the cluster. The rest clusters make some sense, since the classes inside are all similar to each other. 'Cluster 3' consists of 'rec.sport.baseball' in blue and 'rec.sport.hockey' in yellow, which are similar classes. Similarly, 'Cluster 0 'and 'Cluster 2' are composed of 'comp.sys.ibm.pc.hardware' in green and 'comp.sys.mac.hardware' in purple, which are also similar classes. Also, 'Cluster 2' seems to have too few instances compared to other clusters.\n",
    "<br> From the observations, we could find that the low ARI score is reasonable: the performance of the fit is indeed poor."
   ]
  },
  {
   "cell_type": "markdown",
   "metadata": {},
   "source": [
    "### ========== Question 2.4 --- (LEVEL 11) --- [11 marks] ==========\n",
    "\n",
    "Another way to quantify the quality of the fit is to use the Aggregate Intra-Cluster Distance (this is known as the `inertia` within SKLearn).\n",
    "\n",
    "&nbsp;&nbsp;**(a)** [Text] Again by referring to the [sklearn documentation](http://scikit-learn.org/0.19/modules/clustering.html), describe what this measure reports. Indicate why it may be less straightforward at judging the quality of the clustering than the ARI. (2 to 3 sentences). <br>\n",
    "&nbsp;&nbsp;**(b)** [Code] Report the Inertia of the fitted model as well as the mean distance between each data-point and the global mean. Compute also a distance matrix such that the entry with index (i,j) shows the distance between centre i and j.<br>\n",
    "&nbsp;&nbsp;**(c)** [Text] Using the above values, comment on what the Inertia score tells us about the quality of the fit, as well as anything else you can say about the clusters. (2 to 3 sentences)"
   ]
  },
  {
   "cell_type": "markdown",
   "metadata": {},
   "source": [
    "(a) ***Your answer goes here:***"
   ]
  },
  {
   "cell_type": "code",
   "execution_count": 7,
   "metadata": {},
   "outputs": [],
   "source": [
    "# (b) # Your Code goes here:"
   ]
  },
  {
   "cell_type": "markdown",
   "metadata": {},
   "source": [
    "(c) ***Your answer goes here:***"
   ]
  },
  {
   "cell_type": "markdown",
   "metadata": {},
   "source": [
    "### ========== Question 2.5 --- [16 marks] ==========\n",
    "\n",
    "We will now investigate using [PCA](http://scikit-learn.org/0.19/modules/generated/sklearn.decomposition.PCA.html) dimensionality reduction to try and improve the quality of the fit.\n",
    "\n",
    "&nbsp;&nbsp;**(a)** [Text] Give one reason why PCA **might** be preferrable in certain cases in reducing dimensionality over just picking a subset of the features.<br>\n",
    "&nbsp;&nbsp;**(b)** [Code] Pick 10 values in the range [1, ... 1000] inclusive, representing feature-space dimensionality `n`. Use a log-scale to span this range efficiently. For each of these values, reduce the dimensionality of `X` to the respective size (i.e. PCA with `n` components), and then fit a 5-centre KMeans classifier, storing the `adjusted_rand_score` for each dimensionality. *N.B: Set the `random_state=1000` for both PCA and K-Means objects to ensure reproducability.*<br>\n",
    "&nbsp;&nbsp;**(c)** [Code] Plot the the `adjusted_rand_score` against the number of principal components. **Scale** the axes appropriately to visualise the results, and label the plot.<br>\n",
    "&nbsp;&nbsp;**(d)** [Text] Comment on the effect dimensionality reduction had on the K-Means clustering and what could give rise to this (2 - 3 sentences).<br>\n",
    "&nbsp;&nbsp;**(e)** [Code] Fit a 5-cluster K-Means object to the data with the dimensionality that produced the best ARI. In a similar manner to [Question 2.3](#question_2_3), plot a bar-chart of the number of data-points from each class assigned to each cluster. *N.B: Remember to set `random_state=1000` for both PCA and K-Means objects, and label all your diagrams*.<br>\n",
    "&nbsp;&nbsp;**(f)** [Text] Compare the clustering distribution in **(e)** and in [Question 2.3 **(a)**](#question_2_3). *Hint: comment briefly (1 to 2 sentences) on the distribution of classes*."
   ]
  },
  {
   "cell_type": "markdown",
   "metadata": {},
   "source": [
    "(a) ***Your answer goes here:***\n",
    "<br> The features picked by using PCA would be more representative of the data than those picked by using a subset."
   ]
  },
  {
   "cell_type": "code",
   "execution_count": 8,
   "metadata": {},
   "outputs": [
    {
     "name": "stdout",
     "output_type": "stream",
     "text": [
      "n = 1, score = 0.21141203296350972\n",
      "n = 2, score = 0.27188503702414624\n",
      "n = 4, score = 0.23329783772068333\n",
      "n = 10, score = 0.22260206115386857\n",
      "n = 21, score = 0.19654383285381616\n",
      "n = 46, score = 0.19350377815271017\n",
      "n = 100, score = 0.21532578767384264\n",
      "n = 215, score = 0.1236243865441943\n",
      "n = 464, score = 0.23966396848453547\n",
      "n = 1000, score = 0.21944754125743818\n"
     ]
    }
   ],
   "source": [
    "#(b) # Your Code goes here:\n",
    "comps = np.logspace(start=0, stop=3, base=10, num=10).astype('int')\n",
    "ars = np.zeros(10)\n",
    "\n",
    "i = 0\n",
    "for n in comps:\n",
    "    pca = PCA(n_components=n)\n",
    "    new_X = pca.fit_transform(X=X)\n",
    "    km1 = KMeans(n_clusters=5, random_state=1000)\n",
    "    km1.fit(X=new_X)\n",
    "    score_tmp = adjusted_rand_score(labels_pred=km1.predict(X=new_X), labels_true=y)\n",
    "    print(\"n = {}, score = {}\".format(n, score_tmp))\n",
    "    ars[i] = score_tmp\n",
    "    i = i + 1"
   ]
  },
  {
   "cell_type": "code",
   "execution_count": 9,
   "metadata": {
    "scrolled": false
   },
   "outputs": [
    {
     "data": {
      "image/png": "[encoded data removed]",
      "text/plain": [
       "<Figure size 720x432 with 1 Axes>"
      ]
     },
     "metadata": {},
     "output_type": "display_data"
    }
   ],
   "source": [
    "#(c) # Your Code goes here:\n",
    "plt2 = plt.figure(figsize=(10, 6))\n",
    "plt2 = plt.semilogx(comps, ars, basex=10, color='darkgreen', linewidth = 0.5)\n",
    "plt2 = sns.scatterplot(comps, ars)\n",
    "plt2.set_xlabel('N components')\n",
    "plt2.set_ylabel('ARI')\n",
    "plt.show()"
   ]
  },
  {
   "cell_type": "markdown",
   "metadata": {},
   "source": [
    "(d) ***Your answer goes here:***\n",
    "<br> When only 2 principle components are preserved, the K-Means clustering would give the best performance.\n",
    "<br> The observation indicates that PCA does pose a positive effect."
   ]
  },
  {
   "cell_type": "code",
   "execution_count": 10,
   "metadata": {},
   "outputs": [
    {
     "data": {
      "image/png": "[encoded data removed]",
      "text/plain": [
       "<Figure size 864x432 with 1 Axes>"
      ]
     },
     "metadata": {},
     "output_type": "display_data"
    }
   ],
   "source": [
    "#(e) # Your Code goes here:\n",
    "pca1 = PCA(n_components=2)\n",
    "new_X1 = pca1.fit_transform(X=X)\n",
    "km2 = KMeans(n_clusters=5, random_state=1000)\n",
    "km2.fit(X=new_X1)\n",
    "\n",
    "pylab.rcParams['figure.figsize'] = (12, 6)\n",
    "sns.set_style('darkgrid')\n",
    "plt3 = sns.countplot(x=km2.labels_, hue=y)\n",
    "plt3.set_xlabel(\"Cluster ID\")\n",
    "plt3.legend(bbox_to_anchor=[1, 1], title='Class')\n",
    "plt.show()"
   ]
  },
  {
   "cell_type": "markdown",
   "metadata": {},
   "source": [
    "(f) ***Your answer goes here:***\n",
    "<br> The distributions in the five clusters did not alter too much. 'Cluster 0', 'Cluster 3' and 'Cluster 4' are almost identical to 'Cluster 4', 'Cluster 3' and 'Cluster 2'. in the previous clustering. 'Cluster 1' is similar to 'Cluster 0' in the previous clustering, with obvious decline in number of instances. 'Cluster 2' is an improvement of 'Cluster 1' in the previous clustering, where there is a reduction of the proportion of instances labelled 'comp.sys.ibm.pc.hardware' and 'comp.sys.mac.hardware'."
   ]
  },
  {
   "cell_type": "markdown",
   "metadata": {},
   "source": [
    "### ========== Question 2.6 --- [16 marks] ==========\n",
    "\n",
    "Another benefit of Dimensionality Reduction is that it allows us to visualise the data. That is, while we cannot visualise a 1000-feature space, we can pick the top two components and visualise those. We will do this by means of a [Voronoi Diagram](https://en.wikipedia.org/wiki/Voronoi_diagram), which we will use to analyse the cluster centres.\n",
    "\n",
    "&nbsp;&nbsp;**(a)** [Text] By explaining what a Voronoi Diagram is, indicate why it is useful in visualising the extent (in space) of K-Means clusters?<br>\n",
    "&nbsp;&nbsp;**(b)** [Code] Using the function `plot_voronoi` which we provided in the `utils` package, visualise the clusters in the two-dimensional PCA space (top two components). Mark each cluster centre, and visualise **some** (*Hint: sub-sample*) of the data points to give you an idea of where the true classes lie. Make sure that the key elements of the plot are clearly visible/discernible (you may need to tweak some parameters) and label clearly all necessary elements of the plot (color-coding, data points). *Tip: you may need to change y to a numeric value if using matplotlib rather than seaborn*.<br>\n",
    "&nbsp;&nbsp;**(c)** [Text] What can you conclude from the plot as to the `classification-performance` of the K-Means classifier?"
   ]
  },
  {
   "cell_type": "markdown",
   "metadata": {},
   "source": [
    "(a) ***Your answer goes here:***\n",
    "<br> Voronoi diagram is a partitioning of a plane into regions based on distance to points in a specific subset of the plane. That set of points (called seeds, sites, or generators) is specified beforehand (for K means, it is the centroids for the clusters), and for each seed there is a corresponding region consisting of all points closer to that seed than to any other. These regions are called Voronoi cells. \n",
    "<br> The Voronoi cells are just the K clusters. With the help of the Voronoi diagram, it is more straightforward to view the clusters, the boundaries between clusters and how the space is separated by the clusters."
   ]
  },
  {
   "cell_type": "code",
   "execution_count": 11,
   "metadata": {
    "scrolled": false
   },
   "outputs": [
    {
     "data": {
      "image/png": "[encoded data removed]",
      "text/plain": [
       "<Figure size 864x864 with 1 Axes>"
      ]
     },
     "metadata": {},
     "output_type": "display_data"
    }
   ],
   "source": [
    "#(b) # Your Code goes here:\n",
    "# new_X1 is the result from the previous cell\n",
    "x_min, x_max = new_X1[:, 0].min() - 0.05, new_X1[:, 0].max() + 0.05\n",
    "y_min, y_max = new_X1[:, 1].min() - 0.05, new_X1[:, 1].max() + 0.05\n",
    "sub_index = np.random.choice(np.arange(0, new_X1.shape[0]), size=800, replace=False)\n",
    "sub_X = new_X1[sub_index]\n",
    "sub_y = y[sub_index]\n",
    "\n",
    "pylab.rcParams['figure.figsize'] = (12, 12)\n",
    "plt4 = plot_voronoi(predictor=km2, _range=[x_min, x_max, y_min, y_max], sampling=[100, 100], clr_map='Set3')\n",
    "plt4 = plt.scatter(x=sub_X[:, 0], y=sub_X[:, 1], marker='.', s=1, c='black')\n",
    "plt4 = sns.scatterplot(x=sub_X[:, 0], y=sub_X[:, 1], hue=sub_y)\n",
    "plt4 = plt.scatter(x=km2.cluster_centers_[:, 0], y=km2.cluster_centers_[:,1], marker='+', s=200, c='black')\n",
    "plt.xticks([])\n",
    "plt.yticks([])\n",
    "plt.show()"
   ]
  },
  {
   "cell_type": "markdown",
   "metadata": {},
   "source": [
    "(c) ***Your answer goes here:***\n",
    "<br> The graph above is consistent with the data given, the barplot in the previous section and the classification performance score calculated above.\n",
    "<br> Purple and orange points representing 'rec.sport.baseball' and 'rec.sport.hockey', and blue and green points representing 'comp.sys.mac.hardware' and 'comp.sys.ibm.pc.hardware' are overlapped, which both indicates similarity between the two pairs of classes.\n",
    "<br> [Blue, Purple, Yellow, Pink, Green] cells corresponds to [Cluster, Cluster, Cluster, Cluster, Cluster] respectively, and the distribution shown in the graph is consistent with the barplot in the previous section.\n",
    "<br> The overlapping of the data makes it almost impossible to separate the similar data, which is the fatal reason for the low classification performance score.\n",
    "<br> Moreover, from the graph, we could spot a three-pointes star distribution (just like the logo of Mercedes without cirle) for the dataset. It is very likely to achieve a much better classification result if we consider the two pairs of similar classes into two classes, applying K-means algorithm with K equals to three and separate the similar classes using other algorithms."
   ]
  }
 ],
 "metadata": {
  "anaconda-cloud": {},
  "kernelspec": {
   "display_name": "Python 3",
   "language": "python",
   "name": "python3"
  },
  "language_info": {
   "codemirror_mode": {
    "name": "ipython",
    "version": 3
   },
   "file_extension": ".py",
   "mimetype": "text/x-python",
   "name": "python",
   "nbconvert_exporter": "python",
   "pygments_lexer": "ipython3",
   "version": "3.6.6"
  }
 },
 "nbformat": 4,
 "nbformat_minor": 1
}
